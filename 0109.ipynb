{
 "cells": [
  {
   "cell_type": "markdown",
   "metadata": {},
   "source": [
    "Problem2, 3은 소스가 어느정도 주어진 상태에서 완성하는 문제인데,\n",
    "가능하다면 참조하지 않고 풀어보길 바랍니다.\n",
    "\n",
    "### 문제1. 개굴개굴 개구리\n",
    "\n",
    "한글로 된 임의의 길이의 문자열을 입력시 그 길이만큼 \"개굴\"을 출력하도록 하세요. 단, 공백은 그대로 유지되어야 합니다.\n",
    "\n",
    "안녕 나는 왕구리야\n",
    "\n",
    "개굴개굴 개굴개굴 개굴개굴개굴개굴"
   ]
  },
  {
   "cell_type": "code",
   "execution_count": 1,
   "metadata": {
    "scrolled": true
   },
   "outputs": [
    {
     "name": "stdout",
     "output_type": "stream",
     "text": [
      "안녕\n",
      "개굴개굴\n"
     ]
    }
   ],
   "source": [
    "a = input()\n",
    "\n",
    "for i in a:\n",
    "    a = a.replace(i,\"개굴\")\n",
    "    \n",
    "print(a)"
   ]
  },
  {
   "cell_type": "markdown",
   "metadata": {},
   "source": [
    "### [Problem1]\n",
    "print를 한줄에 2개 이상 써서 사용해주세요.\n",
    "\n",
    "예제)\n",
    "    print(\"안녕, \") print(\"Jupyter\")"
   ]
  },
  {
   "cell_type": "code",
   "execution_count": 2,
   "metadata": {},
   "outputs": [
    {
     "name": "stdout",
     "output_type": "stream",
     "text": [
      "안녕 Jupyter\n"
     ]
    }
   ],
   "source": [
    "print(\"안녕\",end = \" \") ; print(\"Jupyter\")"
   ]
  },
  {
   "cell_type": "markdown",
   "metadata": {},
   "source": [
    "### [Problem2]\n",
    "print를 하나로 아래 문장을 써주세요.\n",
    "\n",
    "예제)\n",
    "    안녕하세요\n",
    "    저는 파이썬을\n",
    "        배우고 있는\n",
    "            사람입니다.\n",
    "            "
   ]
  },
  {
   "cell_type": "code",
   "execution_count": 3,
   "metadata": {},
   "outputs": [
    {
     "name": "stdout",
     "output_type": "stream",
     "text": [
      "안녕하세요 \n",
      "저는 파이썬을\n",
      "\t배우고 있는\n",
      "\t\t사람입니다.\n"
     ]
    }
   ],
   "source": [
    "print(\"안녕하세요 \\n저는 파이썬을\\n\\t배우고 있는\\n\\t\\t사람입니다.\")"
   ]
  },
  {
   "cell_type": "markdown",
   "metadata": {},
   "source": [
    "### [Problem3]\n",
    "복소수 complex_data를 켤레복소수로 만드는 함수 complex_conjugate를 만들어주세요.\n",
    "\n",
    "예제)\n",
    "    복소수의 표기는 본래 i이므로 i로 하도록 하겠습니다.\n",
    "    프로그래밍을 하는데에는 j로 사용하셔야 합니다.\n",
    "    complex_conjugate(5i) => -5i\n",
    "    complex_conjugate(3+7i) => (3-7i)"
   ]
  },
  {
   "cell_type": "code",
   "execution_count": 4,
   "metadata": {},
   "outputs": [],
   "source": [
    "def com_con(data):\n",
    "    if data[-3] == \"\":\n",
    "        data.replace(\"\",\"-\")\n",
    "    else:\n",
    "        data.replace(\"+\",\"-\")\n",
    "    return data"
   ]
  },
  {
   "cell_type": "code",
   "execution_count": 5,
   "metadata": {},
   "outputs": [
    {
     "ename": "SyntaxError",
     "evalue": "invalid syntax (<ipython-input-5-42847bfe3b1a>, line 1)",
     "output_type": "error",
     "traceback": [
      "\u001b[1;36m  File \u001b[1;32m\"<ipython-input-5-42847bfe3b1a>\"\u001b[1;36m, line \u001b[1;32m1\u001b[0m\n\u001b[1;33m    com_con(5i)\u001b[0m\n\u001b[1;37m             ^\u001b[0m\n\u001b[1;31mSyntaxError\u001b[0m\u001b[1;31m:\u001b[0m invalid syntax\n"
     ]
    }
   ],
   "source": [
    "com_con(5i)"
   ]
  },
  {
   "cell_type": "markdown",
   "metadata": {},
   "source": [
    "### [Problem4]\n",
    "10진수를 8진수로 변경하는 함수를 만들어주세요.\n",
    "\n",
    "예제)\n",
    "    10 -> 0o12\n",
    "    7 -> 0o7\n",
    "    124 -> 0o174"
   ]
  },
  {
   "cell_type": "code",
   "execution_count": 6,
   "metadata": {},
   "outputs": [
    {
     "name": "stdout",
     "output_type": "stream",
     "text": [
      "10\n",
      "0o12\n"
     ]
    }
   ],
   "source": [
    "n = input()\n",
    "a = oct(int(n))\n",
    "print(a)"
   ]
  },
  {
   "cell_type": "markdown",
   "metadata": {},
   "source": [
    "### [Problem5]\n",
    "리스트list_data에 중간값을 리턴하는 center_value 함수를 만들어주세요.\n",
    "\n",
    "예제)\n",
    "    list_data = [1,2,3,4,5]\n",
    "    center_value(list_data) => 3"
   ]
  },
  {
   "cell_type": "code",
   "execution_count": 29,
   "metadata": {},
   "outputs": [],
   "source": [
    "def center_value(list_data):\n",
    "    result = []\n",
    "    if len(list_data) % 2 == 0:\n",
    "        result=\"중간 몰라\"\n",
    "    else:\n",
    "        a = len(list_data) // 2\n",
    "        result = list_data[a]\n",
    "    return result\n",
    "\n",
    "    \n"
   ]
  },
  {
   "cell_type": "code",
   "execution_count": 30,
   "metadata": {},
   "outputs": [
    {
     "data": {
      "text/plain": [
       "3"
      ]
     },
     "execution_count": 30,
     "metadata": {},
     "output_type": "execute_result"
    }
   ],
   "source": [
    "list_data = [1,2,3,4,5]\n",
    "center_value(list_data)\n"
   ]
  },
  {
   "cell_type": "code",
   "execution_count": 31,
   "metadata": {},
   "outputs": [
    {
     "data": {
      "text/plain": [
       "'중간 몰라'"
      ]
     },
     "execution_count": 31,
     "metadata": {},
     "output_type": "execute_result"
    }
   ],
   "source": [
    "list_data = [1,2,3,4,5,6,7,8]\n",
    "center_value(list_data)"
   ]
  },
  {
   "cell_type": "code",
   "execution_count": 32,
   "metadata": {},
   "outputs": [
    {
     "data": {
      "text/plain": [
       "4"
      ]
     },
     "execution_count": 32,
     "metadata": {},
     "output_type": "execute_result"
    }
   ],
   "source": [
    "list_data = [1,2,3,4,5,6,7]\n",
    "center_value(list_data)"
   ]
  }
 ],
 "metadata": {
  "kernelspec": {
   "display_name": "Python 3",
   "language": "python",
   "name": "python3"
  },
  "language_info": {
   "codemirror_mode": {
    "name": "ipython",
    "version": 3
   },
   "file_extension": ".py",
   "mimetype": "text/x-python",
   "name": "python",
   "nbconvert_exporter": "python",
   "pygments_lexer": "ipython3",
   "version": "3.7.1"
  }
 },
 "nbformat": 4,
 "nbformat_minor": 2
}
