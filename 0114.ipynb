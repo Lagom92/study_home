{
 "cells": [
  {
   "cell_type": "markdown",
   "metadata": {},
   "source": [
    "# [Problem1] Calc 계산기\n",
    "\n",
    "- 클래스 Calc는 method로 두 수를 더해주는 add, 두 수를 빼주는 sub,두 수를 곱해주는 mul, 두 수를 나눠주는 div를 가지고 있습니다.\n",
    "\n",
    "- method는 값을 반환합니다.\n",
    "\n",
    "- 기본값이 0일 때 div을 실행하면 error가 발생하므로 \"0은 분모로 올수 없습니다\"를 print해주세요. \n",
    "- 또한, div에서 값이 반환되어지는 값이 정수(Integer)일 때는 int 타입으로 반환해주세요\n",
    "\n"
   ]
  },
  {
   "cell_type": "code",
   "execution_count": null,
   "metadata": {},
   "outputs": [],
   "source": [
    "class Calc:\n",
    "    \n",
    "    def add(self,num):\n",
    "        return self + num\n",
    "        "
   ]
  },
  {
   "cell_type": "code",
   "execution_count": null,
   "metadata": {},
   "outputs": [],
   "source": []
  },
  {
   "cell_type": "code",
   "execution_count": null,
   "metadata": {},
   "outputs": [],
   "source": []
  },
  {
   "cell_type": "code",
   "execution_count": null,
   "metadata": {},
   "outputs": [],
   "source": []
  },
  {
   "cell_type": "code",
   "execution_count": null,
   "metadata": {},
   "outputs": [],
   "source": []
  }
 ],
 "metadata": {
  "kernelspec": {
   "display_name": "Python 3",
   "language": "python",
   "name": "python3"
  },
  "language_info": {
   "codemirror_mode": {
    "name": "ipython",
    "version": 3
   },
   "file_extension": ".py",
   "mimetype": "text/x-python",
   "name": "python",
   "nbconvert_exporter": "python",
   "pygments_lexer": "ipython3",
   "version": "3.7.1"
  }
 },
 "nbformat": 4,
 "nbformat_minor": 2
}
