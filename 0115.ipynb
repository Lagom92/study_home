{
 "cells": [
  {
   "cell_type": "markdown",
   "metadata": {},
   "source": [
    "### 달력 만들기"
   ]
  },
  {
   "cell_type": "code",
   "execution_count": 10,
   "metadata": {},
   "outputs": [
    {
     "name": "stdout",
     "output_type": "stream",
     "text": [
      "         1 월\n",
      "Su Mo Tu We Th Fr Sa\n",
      " 1  2  3  4  5  6  7 \n",
      " 8  9 10 11 12 13 14 \n",
      "15 16 17 18 19 20 21 \n",
      "22 23 24 25 26 27 28 \n",
      "29 30 31 \n",
      "\n",
      "         2 월\n",
      "Su Mo Tu We Th Fr Sa\n",
      "          1  2  3  4 \n",
      " 5  6  7  8  9 10 11 \n",
      "12 13 14 15 16 17 18 \n",
      "19 20 21 22 23 24 25 \n",
      "26 27 28 \n",
      "\n",
      "         3 월\n",
      "Su Mo Tu We Th Fr Sa\n",
      "          1  2  3  4 \n",
      " 5  6  7  8  9 10 11 \n",
      "12 13 14 15 16 17 18 \n",
      "19 20 21 22 23 24 25 \n",
      "26 27 28 29 30 31 \n",
      "\n",
      "         4 월\n",
      "Su Mo Tu We Th Fr Sa\n",
      "                   1 \n",
      " 2  3  4  5  6  7  8 \n",
      " 9 10 11 12 13 14 15 \n",
      "16 17 18 19 20 21 22 \n",
      "23 24 25 26 27 28 29 \n",
      "30 \n",
      "\n",
      "         5 월\n",
      "Su Mo Tu We Th Fr Sa\n",
      "    1  2  3  4  5  6 \n",
      " 7  8  9 10 11 12 13 \n",
      "14 15 16 17 18 19 20 \n",
      "21 22 23 24 25 26 27 \n",
      "28 29 30 31 \n",
      "\n",
      "         6 월\n",
      "Su Mo Tu We Th Fr Sa\n",
      "             1  2  3 \n",
      " 4  5  6  7  8  9 10 \n",
      "11 12 13 14 15 16 17 \n",
      "18 19 20 21 22 23 24 \n",
      "25 26 27 28 29 30 \n",
      "\n",
      "         7 월\n",
      "Su Mo Tu We Th Fr Sa\n",
      "                   1 \n",
      " 2  3  4  5  6  7  8 \n",
      " 9 10 11 12 13 14 15 \n",
      "16 17 18 19 20 21 22 \n",
      "23 24 25 26 27 28 29 \n",
      "30 31 \n",
      "\n",
      "         8 월\n",
      "Su Mo Tu We Th Fr Sa\n",
      "       1  2  3  4  5 \n",
      " 6  7  8  9 10 11 12 \n",
      "13 14 15 16 17 18 19 \n",
      "20 21 22 23 24 25 26 \n",
      "27 28 29 30 31 \n",
      "\n",
      "         9 월\n",
      "Su Mo Tu We Th Fr Sa\n",
      "                1  2 \n",
      " 3  4  5  6  7  8  9 \n",
      "10 11 12 13 14 15 16 \n",
      "17 18 19 20 21 22 23 \n",
      "24 25 26 27 28 29 30 \n",
      "\n",
      "        10 월\n",
      "Su Mo Tu We Th Fr Sa\n",
      " 1  2  3  4  5  6  7 \n",
      " 8  9 10 11 12 13 14 \n",
      "15 16 17 18 19 20 21 \n",
      "22 23 24 25 26 27 28 \n",
      "29 30 31 \n",
      "\n",
      "        11 월\n",
      "Su Mo Tu We Th Fr Sa\n",
      "          1  2  3  4 \n",
      " 5  6  7  8  9 10 11 \n",
      "12 13 14 15 16 17 18 \n",
      "19 20 21 22 23 24 25 \n",
      "26 27 28 29 30 \n",
      "\n",
      "        12 월\n",
      "Su Mo Tu We Th Fr Sa\n",
      "                1  2 \n",
      " 3  4  5  6  7  8  9 \n",
      "10 11 12 13 14 15 16 \n",
      "17 18 19 20 21 22 23 \n",
      "24 25 26 27 28 29 30 \n",
      "31 \n",
      "\n"
     ]
    }
   ],
   "source": [
    "month = range(1,13)\n",
    "day = [31,28,31,30,31,30,31,31,30,31,30,31]\n",
    "dict_date = {0:\"Su\",1:\"Mo\",2:\"Tu\",3:\"We\",4:\"Th\",5:\"Fr\",6:\"Sa\"}\n",
    "\n",
    "index = 0\n",
    "first_row = False\n",
    "a=[]\n",
    "\n",
    "for m in month:\n",
    "    print(f\"{m:10} 월\")\n",
    "    print(\" \".join(dict_date.values()))\n",
    "\n",
    "    first_row = True\n",
    "\n",
    "    for d in range(1,day[m-1]+1):\n",
    "        a.append([index,d])\n",
    "        if index%7==0 and index/7 > 0 and first_row==False:\n",
    "            print()\n",
    "\n",
    "        if first_row:\n",
    "            print(f\"{'   '*(index%7)}\", end=\"\")\n",
    "            first_row = False\n",
    "        print(f\"{d:2}\", end=\" \")\n",
    "        index += 1\n",
    "    print()\n",
    "    print()"
   ]
  },
  {
   "cell_type": "markdown",
   "metadata": {},
   "source": [
    "### 조합식\n",
    "- https://namu.wiki/w/%EC%A1%B0%ED%95%A9"
   ]
  },
  {
   "cell_type": "code",
   "execution_count": 20,
   "metadata": {},
   "outputs": [],
   "source": [
    "def factorial(n):\n",
    "    a = 1\n",
    "    for i in range(1, n + 1):\n",
    "        a*= i\n",
    "    return a\n"
   ]
  },
  {
   "cell_type": "code",
   "execution_count": 21,
   "metadata": {},
   "outputs": [
    {
     "data": {
      "text/plain": [
       "120"
      ]
     },
     "execution_count": 21,
     "metadata": {},
     "output_type": "execute_result"
    }
   ],
   "source": [
    "factorial(5)"
   ]
  },
  {
   "cell_type": "code",
   "execution_count": 24,
   "metadata": {},
   "outputs": [],
   "source": [
    "def combi(n,r):\n",
    "    result = factorial(n) / (factorial(n-r) * factorial(r))\n",
    "    return int(result)"
   ]
  },
  {
   "cell_type": "code",
   "execution_count": 25,
   "metadata": {},
   "outputs": [
    {
     "data": {
      "text/plain": [
       "10"
      ]
     },
     "execution_count": 25,
     "metadata": {},
     "output_type": "execute_result"
    }
   ],
   "source": [
    "combi(5,3)"
   ]
  }
 ],
 "metadata": {
  "kernelspec": {
   "display_name": "Python 3",
   "language": "python",
   "name": "python3"
  },
  "language_info": {
   "codemirror_mode": {
    "name": "ipython",
    "version": 3
   },
   "file_extension": ".py",
   "mimetype": "text/x-python",
   "name": "python",
   "nbconvert_exporter": "python",
   "pygments_lexer": "ipython3",
   "version": "3.7.1"
  }
 },
 "nbformat": 4,
 "nbformat_minor": 2
}
